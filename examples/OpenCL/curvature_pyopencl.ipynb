{
 "cells": [
  {
   "cell_type": "code",
   "execution_count": 29,
   "metadata": {},
   "outputs": [],
   "source": [
    "import os\n",
    "import math\n",
    "import numpy as np\n",
    "import pyopencl as cl\n",
    "import pyopencl.array\n",
    "import time\n",
    "from PIL import Image, ImageEnhance, ImageFilter\n",
    "from matplotlib import cm\n",
    "\n",
    "TASKS = 1048576\n",
    "CL_TASKS = int(TASKS / 4)"
   ]
  },
  {
   "cell_type": "code",
   "execution_count": 30,
   "metadata": {},
   "outputs": [
    {
     "name": "stdout",
     "output_type": "stream",
     "text": [
      "Image size: 718 x 266\n"
     ]
    }
   ],
   "source": [
    "filename = \"./6_shapes.png\"\n",
    "img = Image.open(filename)\n",
    "# img = img.filter(ImageFilter.GaussianBlur(radius = 0.5)) \n",
    "if img.mode != \"RGBA\":\n",
    "    img = img.convert(\"RGBA\")\n",
    "img_width = img.size[0]\n",
    "img_height = img.size[1]\n",
    "img_size = img_width * img_height\n",
    "\n",
    "print(\"Image size: %d x %d\" % (img_width, img_height))"
   ]
  },
  {
   "cell_type": "code",
   "execution_count": 31,
   "metadata": {},
   "outputs": [
    {
     "name": "stdout",
     "output_type": "stream",
     "text": [
      "[<pyopencl.Platform 'NVIDIA CUDA' at 0x220055b5160>, <pyopencl.Platform 'Intel(R) OpenCL HD Graphics' at 0x220151d4600>]\n",
      "[<pyopencl.Device 'NVIDIA GeForce GTX 1060' on 'NVIDIA CUDA' at 0x220055b3fe0>]\n",
      "<pyopencl.Context at 0x22005092d60 on <pyopencl.Device 'NVIDIA GeForce GTX 1060' on 'NVIDIA CUDA' at 0x220055b3fe0>>\n"
     ]
    }
   ],
   "source": [
    "platforms = cl.get_platforms()\n",
    "print(platforms)\n",
    "my_gpu_devices = platforms[0].get_devices(device_type=cl.device_type.GPU)\n",
    "print(my_gpu_devices)\n",
    "ctx = cl.Context(devices=my_gpu_devices)\n",
    "# ctx = cl.create_some_context()\n",
    "print(ctx)\n",
    "queue = cl.CommandQueue(ctx, properties=cl.command_queue_properties.PROFILING_ENABLE)"
   ]
  },
  {
   "cell_type": "code",
   "execution_count": 32,
   "metadata": {},
   "outputs": [],
   "source": [
    "# read kernel from files\n",
    "kernels = \"\"\n",
    "for file in os.listdir(f\"./\"):\n",
    "    if file.endswith(\".cl\"):\n",
    "        f = open(f\"./{file}\", \"r\", encoding=\"utf-8\")\n",
    "        kernels += \"\".join(f.readlines())\n",
    "        f.close()\n",
    "prg = cl.Program(ctx, kernels).build()"
   ]
  },
  {
   "cell_type": "code",
   "execution_count": 33,
   "metadata": {},
   "outputs": [],
   "source": [
    "## to_blur\n",
    "\n",
    "image_format = cl.ImageFormat(cl.channel_order.RGBA, cl.channel_type.UNSIGNED_INT8)\n",
    "\n",
    "# prepare device memory for OpenCL\n",
    "input_buf_1 = cl.Image(\n",
    "    ctx,\n",
    "    cl.mem_flags.READ_WRITE | cl.mem_flags.COPY_HOST_PTR,\n",
    "    image_format,\n",
    "    img.size,\n",
    "    None,\n",
    "    img.tobytes(),\n",
    ")\n",
    "dest_buf_1 = cl.Image(ctx, cl.mem_flags.READ_WRITE, image_format, img.size)\n",
    "\n",
    "# run kernel\n",
    "mask_size = 0\n",
    "np_mask_size = np.int32(mask_size)\n",
    "# prg.to_blur(queue, (img_size,), (1,), dest_buf_1, input_buf_1, np_mask_size).wait()\n",
    "\n",
    "## to_gray\n",
    "\n",
    "dest_buf_2 = cl.Buffer(ctx, cl.mem_flags.READ_WRITE, img_width * img_height * np.dtype(np.float32).itemsize)\n",
    "\n",
    "prg.to_gray_buffer(queue, (img_width, img_height), (1, 1), dest_buf_2, input_buf_1).wait()\n",
    "\n",
    "dest = np.zeros(img_width * img_height, np.float32)\n",
    "cl.enqueue_copy(\n",
    "    queue,\n",
    "    dest=dest,\n",
    "    src=dest_buf_2,\n",
    "    buffer_origin=(0,),\n",
    "    host_origin=(0,),\n",
    "    region=(img_width * img_height * np.dtype(np.float32).itemsize,),\n",
    ").wait()\n",
    "\n",
    "## blur 2\n",
    "dest_buf_3 = cl.Buffer(ctx, cl.mem_flags.READ_WRITE, img_width * img_height * np.dtype(np.float32).itemsize)\n",
    "\n",
    "# prg.gaussian_blur_separable_2d_buffer(queue, (img_width, img_height), (1, 1), dest_buf_3, dest_buf_2, 1,10,1).wait()\n",
    "prg.to_blur_buffer(queue, (img_width, img_height), (1, 1), dest_buf_3, dest_buf_2, np_mask_size).wait()\n",
    "\n",
    "## gradient\n",
    "\n",
    "dx = cl.Buffer(ctx, cl.mem_flags.READ_WRITE, img_width * img_height * np.dtype(np.float32).itemsize)\n",
    "dy = cl.Buffer(ctx, cl.mem_flags.READ_WRITE, img_width * img_height * np.dtype(np.float32).itemsize)\n",
    "dxx = cl.Buffer(ctx, cl.mem_flags.READ_WRITE, img_width * img_height * np.dtype(np.float32).itemsize)\n",
    "dxy = cl.Buffer(ctx, cl.mem_flags.READ_WRITE, img_width * img_height * np.dtype(np.float32).itemsize)\n",
    "dyx = cl.Buffer(ctx, cl.mem_flags.READ_WRITE, img_width * img_height * np.dtype(np.float32).itemsize) # redundant\n",
    "dyy = cl.Buffer(ctx, cl.mem_flags.READ_WRITE, img_width * img_height * np.dtype(np.float32).itemsize)\n",
    "\n",
    "prg.gradient_x_2d_buffer(queue, (img_width, img_height), (1, 1), dx, dest_buf_3).wait()\n",
    "prg.gradient_y_2d_buffer(queue, (img_width, img_height), (1, 1), dy, dest_buf_3).wait()\n",
    "prg.gradient_x_2d_buffer(queue, (img_width, img_height), (1, 1), dxx, dx).wait()\n",
    "prg.gradient_y_2d_buffer(queue, (img_width, img_height), (1, 1), dxy, dx).wait()\n",
    "prg.gradient_x_2d_buffer(queue, (img_width, img_height), (1, 1), dyx, dy).wait() # redundant\n",
    "prg.gradient_y_2d_buffer(queue, (img_width, img_height), (1, 1), dyy, dy).wait()\n",
    "\n",
    "h = cl.Buffer(ctx, cl.mem_flags.READ_WRITE, img_width * img_height * np.dtype(np.float32).itemsize)\n",
    "\n",
    "prg.mean_curvature(queue, (img_width, img_height), (1, 1), h, dx, dy, dxx, dxy, dyy).wait()\n",
    "\n",
    "# read image back to cpu\n",
    "dest = np.zeros(img_width * img_height, np.float32)\n",
    "cl.enqueue_copy(\n",
    "    queue,\n",
    "    dest=dest,\n",
    "    src=h,\n",
    "    buffer_origin=(0,),\n",
    "    host_origin=(0,),\n",
    "    region=(img_width * img_height * np.dtype(np.float32).itemsize,),\n",
    ").wait()"
   ]
  },
  {
   "cell_type": "code",
   "execution_count": 38,
   "metadata": {},
   "outputs": [
    {
     "data": {
      "image/png": "[encoded data removed]",
      "text/plain": [
       "<PIL.Image.Image image mode=RGBA size=718x266>"
      ]
     },
     "metadata": {},
     "output_type": "display_data"
    },
    {
     "data": {
      "image/png": "[encoded data removed]",
      "text/plain": [
       "<PIL.Image.Image image mode=RGB size=718x266>"
      ]
     },
     "metadata": {},
     "output_type": "display_data"
    }
   ],
   "source": [
    "# for buffer\n",
    "dest = np.reshape(dest, (img_height, img_width))\n",
    "# normalize all values to be between 0 and 1\n",
    "dest2 = (dest-np.min(dest))/(np.max(dest)-np.min(dest))\n",
    "\n",
    "\n",
    "# display(dest2)\n",
    "out_img = Image.fromarray(np.uint8(cm.Greys(dest2)*255)) # plasma, inferno, magma, viridis, Greys\n",
    "\n",
    "if out_img.mode == \"RGBA\":\n",
    "    out_img = out_img.convert(\"RGB\")\n",
    "\n",
    "# enhancer = ImageEnhance.Brightness(out_img)\n",
    "# enhancer = ImageEnhance.Contrast(out_img)\n",
    "# to reduce brightness by 50%, use factor 0.5\n",
    "# out_img = enhancer.enhance(0.50)\n",
    "# out_im.save(\"out.png\")\n",
    "\n",
    "display(img)\n",
    "display(out_img)"
   ]
  }
 ],
 "metadata": {
  "kernelspec": {
   "display_name": ".venv",
   "language": "python",
   "name": "python3"
  },
  "language_info": {
   "codemirror_mode": {
    "name": "ipython",
    "version": 3
   },
   "file_extension": ".py",
   "mimetype": "text/x-python",
   "name": "python",
   "nbconvert_exporter": "python",
   "pygments_lexer": "ipython3",
   "version": "3.11.2"
  }
 },
 "nbformat": 4,
 "nbformat_minor": 2
}
